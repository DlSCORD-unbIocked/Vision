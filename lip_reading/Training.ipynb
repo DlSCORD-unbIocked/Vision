{
 "cells": [
  {
   "cell_type": "code",
   "metadata": {
    "colab": {
     "base_uri": "https://localhost:8080/"
    },
    "id": "iDO6gpUBMXj_",
    "outputId": "06cf6eb8-e81e-4d7a-a404-33e34422aad0"
   },
   "source": [
    "from google.colab import drive\n",
    "drive.mount('/content/drive')"
   ],
   "outputs": [],
   "execution_count": null
  },
  {
   "cell_type": "code",
   "metadata": {
    "id": "5EpL7QjoMoUR"
   },
   "source": [
    "import matplotlib.pyplot as plt\n",
    "import numpy as np\n",
    "import os\n",
    "import PIL\n",
    "import pathlib\n",
    "from tqdm import tqdm\n",
    "import tensorflow as tf\n",
    "from tensorflow import keras\n",
    "from tensorflow.keras import layers\n",
    "from tensorflow.keras.models import Sequential"
   ],
   "outputs": [],
   "execution_count": null
  },
  {
   "cell_type": "code",
   "metadata": {
    "id": "wxlc639pNGc8"
   },
   "source": [
    "data_dir = pathlib.Path('drive/MyDrive/data/train_phone')"
   ],
   "outputs": [],
   "execution_count": null
  },
  {
   "cell_type": "code",
   "metadata": {
    "colab": {
     "base_uri": "https://localhost:8080/"
    },
    "id": "pCY463yJNSmw",
    "outputId": "7ec2607e-7834-4360-da71-98080c7dc900"
   },
   "source": [
    "# reduce batch size\n",
    "train_ds = tf.keras.preprocessing.image_dataset_from_directory(\n",
    "    data_dir,\n",
    "    validation_split=0.2,\n",
    "    subset=\"training\",\n",
    "    seed=123,\n",
    "    image_size=(128, 128),\n",
    "    batch_size=32,\n",
    "    interpolation='nearest'\n",
    ")"
   ],
   "outputs": [],
   "execution_count": null
  },
  {
   "cell_type": "code",
   "metadata": {
    "colab": {
     "base_uri": "https://localhost:8080/"
    },
    "id": "7K_JcH64OEN1",
    "outputId": "de8a0238-e8e4-487b-af57-c53a7f689cb8"
   },
   "source": [
    "# reduce batch size\n",
    "validation_ds = tf.keras.preprocessing.image_dataset_from_directory(\n",
    "    data_dir,\n",
    "    validation_split=0.2,\n",
    "    subset=\"validation\",\n",
    "    seed=123,\n",
    "    image_size=(128, 128),\n",
    "    batch_size=32,\n",
    "    interpolation='nearest'\n",
    ")"
   ],
   "outputs": [],
   "execution_count": null
  },
  {
   "cell_type": "code",
   "metadata": {
    "colab": {
     "base_uri": "https://localhost:8080/",
     "height": 933
    },
    "id": "T8li-jBsOXji",
    "outputId": "d5534e36-2089-4648-ec66-be9c9bcc3a5b"
   },
   "source": [
    "class_names = train_ds.class_names\n",
    "plt.figure(figsize=(10, 10))\n",
    "for images, labels in tqdm(train_ds.take(1)):\n",
    "    for i in tqdm(range(9)):\n",
    "        ax = plt.subplot(3, 3, i + 1)\n",
    "        plt.imshow(images[i].numpy().astype(\"uint8\"))\n",
    "        plt.title(class_names[labels[i]])\n",
    "        plt.axis(\"off\")"
   ],
   "outputs": [],
   "execution_count": null
  },
  {
   "cell_type": "code",
   "source": [
    "num_classes = 40\n",
    "model = Sequential([\n",
    "    layers.experimental.preprocessing.Rescaling(1./255, input_shape=(128, 128, 3)),\n",
    "    layers.Conv2D(16, 3, padding='same', activation='relu'),\n",
    "    layers.MaxPooling2D(),\n",
    "    layers.Conv2D(32, 3, padding='same', activation='relu'),\n",
    "    layers.MaxPooling2D(),\n",
    "    layers.Conv2D(64, 3, padding='same', activation='relu'),\n",
    "    layers.MaxPooling2D(),\n",
    "    layers.Flatten(),\n",
    "    layers.Dense(128, activation='relu'),\n",
    "    layers.Dense(num_classes)\n",
    "])"
   ],
   "metadata": {
    "id": "b-wV7-wRZkFM"
   },
   "outputs": [],
   "execution_count": null
  },
  {
   "cell_type": "code",
   "source": [
    "model.summary()"
   ],
   "metadata": {
    "colab": {
     "base_uri": "https://localhost:8080/"
    },
    "id": "7sd2sThAZ20m",
    "outputId": "6529af3d-c5e3-4efe-9955-8cce15f4b908"
   },
   "outputs": [],
   "execution_count": null
  },
  {
   "cell_type": "code",
   "source": [
    "model.compile(optimizer='Adam'\n",
    "  , loss=tf.keras.losses.SparseCategoricalCrossentropy(from_logits=True)\n",
    "  , metrics=['accuracy'])"
   ],
   "metadata": {
    "id": "W_npNkntaSDb"
   },
   "outputs": [],
   "execution_count": null
  },
  {
   "cell_type": "code",
   "source": [
    "epochs=5\n",
    "history=model.fit(train_ds, validation_data=validation_ds, epochs=epochs)"
   ],
   "metadata": {
    "colab": {
     "base_uri": "https://localhost:8080/"
    },
    "id": "bPmSznBfaVrp",
    "outputId": "f4217f59-aa03-475f-9a91-34ae91b7e4f7"
   },
   "outputs": [],
   "execution_count": null
  },
  {
   "cell_type": "code",
   "source": [
    "model.save('drive/MyDrive/data/phone.h5')"
   ],
   "metadata": {
    "id": "VRhr8zFkcFHt"
   },
   "outputs": [],
   "execution_count": null
  },
  {
   "cell_type": "code",
   "source": [
    "acc = history.history['accuracy']\n",
    "val_acc = history.history['val_accuracy']\n",
    "\n",
    "loss = history.history['loss']\n",
    "val_loss = history.history['val_loss']\n",
    "\n",
    "epochs_range = range(epochs)"
   ],
   "metadata": {
    "id": "BpGg4cmSsqQR"
   },
   "outputs": [],
   "execution_count": null
  },
  {
   "cell_type": "code",
   "source": [
    "plt.figure(figsize=(8, 8))\n",
    "plt.subplot(1, 2, 1)\n",
    "plt.plot(epochs_range, acc, label='Training Accuracy')\n",
    "plt.plot(epochs_range, val_acc, label='Validation Accuracy')\n",
    "plt.legend(loc='lower right')\n",
    "plt.title('Training and Validation Accuracy')\n",
    "\n",
    "plt.subplot(1, 2, 2)\n",
    "plt.plot(epochs_range, loss, label='Training Loss')\n",
    "plt.plot(epochs_range, val_loss, label='Validation Loss')\n",
    "plt.legend(loc='upper right')\n",
    "plt.title('Training and Validation Loss')\n",
    "plt.show()"
   ],
   "metadata": {
    "id": "zffTGuI5syzK"
   },
   "outputs": [],
   "execution_count": null
  },
  {
   "cell_type": "code",
   "source": [
    "loss, accuracy = model.evaluate(validation_ds)\n",
    "print('Test accuracy :', accuracy)"
   ],
   "metadata": {
    "id": "WpIQQAc3s6pc"
   },
   "outputs": [],
   "execution_count": null
  },
  {
   "cell_type": "code",
   "source": [
    "print(\"Model input shape:\", model.input_shape)\n",
    "print(\"Model output shape:\", model.output_shape)\n",
    "print(\"Number of layers:\", len(model.layers))\n",
    "print(\"Layer names:\", [layer.name for layer in model.layers])\n"
   ],
   "metadata": {
    "id": "PkMx_CR924x_"
   },
   "outputs": [],
   "execution_count": null
  },
  {
   "cell_type": "code",
   "source": [
    "image_path = \"drive/MyDrive/data/cropped/000142.jpg\"  # Replace with the actual path\n",
    "img = image.load_img(image_path, target_size=(128, 128))\n",
    "img_array = image.img_to_array(img)\n",
    "img_array = np.expand_dims(img_array, axis=0)\n",
    "img_array = img_array / 255.0"
   ],
   "metadata": {
    "id": "mFAGeV2AFnWD"
   },
   "outputs": [],
   "execution_count": null
  },
  {
   "cell_type": "code",
   "source": [
    "predictions = model.predict(img_array)\n",
    "predicted_class_index = np.argmax(predictions[0])\n",
    "predicted_class = class_names[predicted_class_index]\n",
    "\n",
    "print(\"Predicted class:\", predicted_class)"
   ],
   "metadata": {
    "id": "cuQS-ojS1HsT"
   },
   "outputs": [],
   "execution_count": null
  },
  {
   "cell_type": "code",
   "source": [
    "top_3_indices = np.argsort(predictions[0])[::-1][:3]\n",
    "top_3_classes = [class_names[idx] for idx in top_3_indices]\n",
    "top_3_probabilities = predictions[0][top_3_indices]"
   ],
   "metadata": {
    "id": "mNW6Z3JSF-Xn"
   },
   "outputs": [],
   "execution_count": null
  },
  {
   "cell_type": "code",
   "source": [
    "print(\"Top 3 predicted classes:\")\n",
    "for class_name, probability in zip(top_3_classes, top_3_probabilities):\n",
    "    print(f\"{class_name}: {probability:.2f}\")"
   ],
   "metadata": {
    "id": "PoBNNZxbF8_0"
   },
   "outputs": [],
   "execution_count": null
  }
 ],
 "metadata": {
  "colab": {
   "provenance": []
  },
  "kernelspec": {
   "display_name": "Python 3",
   "name": "python3"
  },
  "language_info": {
   "name": "python"
  }
 },
 "nbformat": 4,
 "nbformat_minor": 0
}
