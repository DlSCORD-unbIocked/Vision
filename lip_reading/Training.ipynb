{
 "cells": [
  {
   "cell_type": "code",
   "metadata": {
    "colab": {
     "base_uri": "https://localhost:8080/"
    },
    "id": "iDO6gpUBMXj_",
    "outputId": "55636dad-2ab4-4f2c-a25f-3b0a2e8840a7"
   },
   "source": [
    "from google.colab import drive\n",
    "drive.mount('/content/drive')"
   ],
   "outputs": [],
   "execution_count": null
  },
  {
   "cell_type": "code",
   "source": [
    "!unzip -q \"drive/MyDrive/data/cropped.zip\""
   ],
   "metadata": {
    "id": "XQiBjnurCoZa"
   },
   "outputs": [],
   "execution_count": null
  },
  {
   "cell_type": "code",
   "metadata": {
    "id": "5EpL7QjoMoUR"
   },
   "source": [
    "import matplotlib.pyplot as plt\n",
    "import numpy as np\n",
    "import os\n",
    "import PIL\n",
    "import pathlib\n",
    "import pandas as pd\n",
    "from tqdm import tqdm\n",
    "import tensorflow as tf\n",
    "from tensorflow import keras\n",
    "from tensorflow.keras import layers\n",
    "from tensorflow.keras.models import Sequential\n",
    "from keras.preprocessing import image"
   ],
   "outputs": [],
   "execution_count": null
  },
  {
   "cell_type": "code",
   "metadata": {
    "id": "wxlc639pNGc8"
   },
   "source": [
    "data_dir = pathlib.Path('drive/MyDrive/data/train_phone')"
   ],
   "outputs": [],
   "execution_count": null
  },
  {
   "cell_type": "code",
   "metadata": {
    "colab": {
     "base_uri": "https://localhost:8080/"
    },
    "id": "pCY463yJNSmw",
    "outputId": "52e75768-ac36-4a38-9daa-d6e06c3260ae"
   },
   "source": [
    "# reduce batch size\n",
    "train_ds = tf.keras.preprocessing.image_dataset_from_directory(\n",
    "    data_dir,\n",
    "    validation_split=0.2,\n",
    "    subset=\"training\",\n",
    "    seed=123,\n",
    "    image_size=(128, 128),\n",
    "    batch_size=20,\n",
    "    interpolation='nearest'\n",
    ")"
   ],
   "outputs": [],
   "execution_count": null
  },
  {
   "cell_type": "code",
   "metadata": {
    "colab": {
     "base_uri": "https://localhost:8080/"
    },
    "id": "7K_JcH64OEN1",
    "outputId": "4163e917-dcc3-4a46-dcee-dc15cc6674fd"
   },
   "source": [
    "# reduce batch size\n",
    "validation_ds = tf.keras.preprocessing.image_dataset_from_directory(\n",
    "    data_dir,\n",
    "    validation_split=0.2,\n",
    "    subset=\"validation\",\n",
    "    seed=123,\n",
    "    image_size=(128, 128),\n",
    "    batch_size=20,\n",
    "    interpolation='nearest'\n",
    ")"
   ],
   "outputs": [],
   "execution_count": null
  },
  {
   "cell_type": "code",
   "metadata": {
    "colab": {
     "base_uri": "https://localhost:8080/",
     "height": 916
    },
    "id": "T8li-jBsOXji",
    "outputId": "5e6e5970-512a-449f-a855-e27e9420f99c"
   },
   "source": [
    "class_names = train_ds.class_names\n",
    "plt.figure(figsize=(10, 10))\n",
    "for images, labels in tqdm(train_ds.take(1)):\n",
    "    for i in tqdm(range(9)):\n",
    "        ax = plt.subplot(3, 3, i + 1)\n",
    "        plt.imshow(images[i].numpy().astype(\"uint8\"))\n",
    "        plt.title(class_names[labels[i]])\n",
    "        plt.axis(\"off\")"
   ],
   "outputs": [],
   "execution_count": null
  },
  {
   "cell_type": "code",
   "source": [
    "num_classes = 40\n",
    "model = Sequential([\n",
    "    layers.experimental.preprocessing.Rescaling(1./255, input_shape=(128, 128, 3)),\n",
    "    layers.Conv2D(16, 3, padding='same', activation='relu'),\n",
    "    layers.MaxPooling2D(),\n",
    "    layers.Conv2D(32, 3, padding='same', activation='relu'),\n",
    "    layers.MaxPooling2D(),\n",
    "    layers.Conv2D(64, 3, padding='same', activation='relu'),\n",
    "    layers.MaxPooling2D(),\n",
    "    layers.Flatten(),\n",
    "    layers.Dense(128, activation='relu'),\n",
    "    layers.Dense(num_classes)\n",
    "])"
   ],
   "metadata": {
    "id": "b-wV7-wRZkFM"
   },
   "outputs": [],
   "execution_count": null
  },
  {
   "cell_type": "code",
   "source": [
    "model.summary()"
   ],
   "metadata": {
    "colab": {
     "base_uri": "https://localhost:8080/"
    },
    "id": "7sd2sThAZ20m",
    "outputId": "79ef2339-8925-4556-8808-b02590a37168"
   },
   "outputs": [],
   "execution_count": null
  },
  {
   "cell_type": "code",
   "source": [
    "model.compile(optimizer='Adam'\n",
    "  , loss=tf.keras.losses.SparseCategoricalCrossentropy(from_logits=True)\n",
    "  , metrics=['accuracy'])"
   ],
   "metadata": {
    "id": "W_npNkntaSDb"
   },
   "outputs": [],
   "execution_count": null
  },
  {
   "cell_type": "code",
   "source": [
    "checkpoint_callback = tf.keras.callbacks.ModelCheckpoint(\n",
    "    filepath='drive/MyDrive/data/phone_{epoch:02d}.keras',\n",
    "    save_weights_only=False,\n",
    "    period=1\n",
    ")"
   ],
   "metadata": {
    "colab": {
     "base_uri": "https://localhost:8080/"
    },
    "id": "XVP7aRyfu62V",
    "outputId": "57dfe5da-63d3-49fb-fbc2-f087b962ee4d"
   },
   "outputs": [],
   "execution_count": null
  },
  {
   "cell_type": "code",
   "source": [
    "epochs=10\n",
    "history=model.fit(train_ds, validation_data=validation_ds, epochs=epochs, callbacks=[checkpoint_callback])"
   ],
   "metadata": {
    "colab": {
     "base_uri": "https://localhost:8080/"
    },
    "id": "bPmSznBfaVrp",
    "outputId": "a10f1311-ddef-461a-de92-4663c39454c6"
   },
   "outputs": [],
   "execution_count": null
  },
  {
   "cell_type": "code",
   "source": [
    "model.save('drive/MyDrive/data/phone.keras')"
   ],
   "metadata": {
    "id": "VRhr8zFkcFHt",
    "colab": {
     "base_uri": "https://localhost:8080/",
     "height": 141
    },
    "outputId": "5d0d5ae1-d0e5-476a-d23d-d443393903a2"
   },
   "outputs": [],
   "execution_count": null
  },
  {
   "cell_type": "code",
   "source": [
    "acc = history.history['accuracy']\n",
    "val_acc = history.history['val_accuracy']\n",
    "\n",
    "loss = history.history['loss']\n",
    "val_loss = history.history['val_loss']\n",
    "\n",
    "epochs_range = range(epochs)"
   ],
   "metadata": {
    "id": "BpGg4cmSsqQR",
    "colab": {
     "base_uri": "https://localhost:8080/",
     "height": 211
    },
    "outputId": "13e39fc5-aba4-4b13-8f23-19ac3bda7d05"
   },
   "outputs": [],
   "execution_count": null
  },
  {
   "cell_type": "code",
   "source": [
    "plt.figure(figsize=(8, 8))\n",
    "plt.subplot(1, 2, 1)\n",
    "plt.plot(epochs_range, acc, label='Training Accuracy')\n",
    "plt.plot(epochs_range, val_acc, label='Validation Accuracy')\n",
    "plt.legend(loc='lower right')\n",
    "plt.title('Training and Validation Accuracy')\n",
    "\n",
    "plt.subplot(1, 2, 2)\n",
    "plt.plot(epochs_range, loss, label='Training Loss')\n",
    "plt.plot(epochs_range, val_loss, label='Validation Loss')\n",
    "plt.legend(loc='upper right')\n",
    "plt.title('Training and Validation Loss')\n",
    "plt.show()"
   ],
   "metadata": {
    "id": "zffTGuI5syzK"
   },
   "outputs": [],
   "execution_count": null
  },
  {
   "cell_type": "code",
   "source": [
    "loss, accuracy = model.evaluate(validation_ds)\n",
    "print('Test accuracy :', accuracy)"
   ],
   "metadata": {
    "id": "WpIQQAc3s6pc"
   },
   "outputs": [],
   "execution_count": null
  },
  {
   "cell_type": "code",
   "source": [
    "print(\"Model input shape:\", model.input_shape)\n",
    "print(\"Model output shape:\", model.output_shape)\n",
    "print(\"Number of layers:\", len(model.layers))\n",
    "print(\"Layer names:\", [layer.name for layer in model.layers])\n"
   ],
   "metadata": {
    "id": "PkMx_CR924x_"
   },
   "outputs": [],
   "execution_count": null
  },
  {
   "cell_type": "code",
   "source": [
    "model = keras.models.load_model('drive/MyDrive/data/phone_05.h5')"
   ],
   "metadata": {
    "id": "hVU5sF6GC9-k"
   },
   "outputs": [],
   "execution_count": null
  },
  {
   "cell_type": "code",
   "source": [
    "class_names = train_ds.class_names\n",
    "image_path = \"cropped/010890.jpg\"  # Replace with the actual path\n",
    "img = image.load_img(image_path, target_size=(128, 128))\n",
    "img_array = image.img_to_array(img)\n",
    "img_array = np.expand_dims(img_array, axis=0)\n",
    "img_array = img_array / 255.0"
   ],
   "metadata": {
    "id": "mFAGeV2AFnWD"
   },
   "outputs": [],
   "execution_count": null
  },
  {
   "cell_type": "code",
   "source": [
    "predictions = model.predict(img_array)\n",
    "predicted_class_index = np.argmax(predictions[0])\n",
    "predicted_class = class_names[predicted_class_index]\n",
    "\n",
    "print(\"Predicted class:\", predicted_class)"
   ],
   "metadata": {
    "colab": {
     "base_uri": "https://localhost:8080/"
    },
    "id": "cuQS-ojS1HsT",
    "outputId": "c0dd66ef-a8a9-4c2f-ed5a-a67e07e9dac7"
   },
   "outputs": [],
   "execution_count": null
  },
  {
   "cell_type": "code",
   "source": [
    "top_3_indices = np.argsort(predictions[0])[::-1][:3]\n",
    "top_3_classes = [class_names[idx] for idx in top_3_indices]\n",
    "top_3_probabilities = predictions[0][top_3_indices]"
   ],
   "metadata": {
    "id": "mNW6Z3JSF-Xn"
   },
   "outputs": [],
   "execution_count": null
  },
  {
   "cell_type": "code",
   "source": [
    "print(\"Top 3 predicted classes:\")\n",
    "for class_name, probability in zip(top_3_classes, top_3_probabilities):\n",
    "    print(f\"{class_name}: {probability:.2f}\")"
   ],
   "metadata": {
    "colab": {
     "base_uri": "https://localhost:8080/"
    },
    "id": "PoBNNZxbF8_0",
    "outputId": "60c14cb1-a1c6-4d34-cddf-40b948453a6d"
   },
   "outputs": [],
   "execution_count": null
  },
  {
   "cell_type": "code",
   "source": [
    "img = image.load_img(image_path, target_size=(128, 128))\n",
    "img_array = image.img_to_array(img)\n",
    "\n",
    "df = pd.read_csv('drive/MyDrive/data/data.csv')\n",
    "image_name = f\"cropped/{image_path}\"\n",
    "actual_class = df.loc[df['image'] == image_name, 'phone'].values[0]\n",
    "print(f\"Actual class for {image_name}: {actual_class}\")\n",
    "\n",
    "\n",
    "plt.imshow(img_array.astype(\"uint8\"))\n",
    "plt.title(f\"Actual class: {actual_class}\")\n",
    "plt.axis(\"off\")\n",
    "plt.show()"
   ],
   "metadata": {
    "colab": {
     "base_uri": "https://localhost:8080/",
     "height": 445
    },
    "id": "0tlHAdGQFHfY",
    "outputId": "58187cc2-2d23-4c4e-dd97-4a03da40b3d1"
   },
   "outputs": [],
   "execution_count": null
  }
 ],
 "metadata": {
  "colab": {
   "provenance": []
  },
  "kernelspec": {
   "display_name": "Python 3",
   "name": "python3"
  },
  "language_info": {
   "name": "python"
  }
 },
 "nbformat": 4,
 "nbformat_minor": 0
}
