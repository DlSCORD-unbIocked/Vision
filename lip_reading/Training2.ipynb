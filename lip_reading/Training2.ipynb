{
 "nbformat": 4,
 "nbformat_minor": 0,
 "metadata": {
  "colab": {
   "provenance": []
  },
  "kernelspec": {
   "name": "python3",
   "display_name": "Python 3"
  },
  "language_info": {
   "name": "python"
  }
 },
 "cells": [
  {
   "cell_type": "code",
   "source": [
    "#run this in colab\n",
    "from google.colab import drive\n",
    "drive.mount('/content/drive')"
   ],
   "metadata": {
    "colab": {
     "base_uri": "https://localhost:8080/"
    },
    "id": "L8_OJfk64rkS",
    "outputId": "96eed156-95d2-40a8-b299-a47e79049c7a"
   },
   "outputs": [],
   "execution_count": null
  },
  {
   "cell_type": "code",
   "source": [
    "!unzip -q drive/MyDrive/data/cropped.zip"
   ],
   "metadata": {
    "id": "uWl0198I45zx",
    "colab": {
     "base_uri": "https://localhost:8080/"
    },
    "outputId": "8992b830-9fd5-4b72-dca6-c2230e9caa50"
   },
   "outputs": [],
   "execution_count": null
  },
  {
   "cell_type": "code",
   "metadata": {
    "id": "RwRR_coC4JEM"
   },
   "source": [
    "import pandas as pd\n",
    "import numpy as np\n",
    "from tqdm import tqdm\n",
    "from tensorflow.keras.preprocessing.image import load_img, img_to_array\n",
    "from sklearn.model_selection import train_test_split\n",
    "from sklearn.preprocessing import LabelEncoder\n",
    "from tensorflow.keras.utils import to_categorical\n",
    "from tensorflow.keras import layers, models\n",
    "from tensorflow.keras.layers import LSTM"
   ],
   "outputs": [],
   "execution_count": null
  },
  {
   "cell_type": "code",
   "source": [
    "data = pd.read_csv('drive/MyDrive/data/data.csv')\n",
    "\n",
    "def preprocess_image(image_path, target_size=(28, 28)):\n",
    "    if pd.isna(image_path):\n",
    "        return None\n",
    "    image_path = image_path.split('/')[-1]\n",
    "    img = load_img(f\"cropped/{image_path}\", target_size=target_size)\n",
    "    img = img_to_array(img)\n",
    "    img = np.expand_dims(img, axis=-1)\n",
    "    img = img.astype('float32') / 255.0\n",
    "    return img\n",
    "\n",
    "# Filter out NaN values before processing\n",
    "valid_image_paths = data['image'].dropna()\n",
    "\n",
    "images = []\n",
    "for path in tqdm(valid_image_paths):\n",
    "    processed_image = preprocess_image(path)\n",
    "    if processed_image is not None:\n",
    "        images.append(processed_image)\n",
    "images = np.array(images)\n",
    "\n",
    "label_encoder = LabelEncoder()\n",
    "labels = label_encoder.fit_transform(data.loc[valid_image_paths.index, 'phone'])\n",
    "labels = to_categorical(labels)\n",
    "\n"
   ],
   "metadata": {
    "colab": {
     "base_uri": "https://localhost:8080/"
    },
    "id": "4zjJioMg4oAm",
    "outputId": "a3e47320-b572-484b-b925-a59cc0c89cc5"
   },
   "outputs": [],
   "execution_count": null
  },
  {
   "cell_type": "code",
   "source": [
    "X_train, X_test, y_train, y_test = train_test_split(images, labels, test_size=0.2, random_state=42)\n",
    "\n",
    "X_train = X_train.reshape((X_train.shape[0], 28, 28 * 3))\n",
    "X_test = X_test.reshape((X_test.shape[0], 28, 28 * 3))\n",
    "\n",
    "unique_phones = np.unique(data['phone'].dropna().astype(str))\n",
    "\n",
    "model = models.Sequential([\n",
    "    LSTM(128, input_shape=(28, 28 * 3)),\n",
    "    layers.Dense(len(unique_phones), activation='softmax')  # Use the corrected number of unique phones\n",
    "])\n",
    "\n",
    "model.compile(optimizer='adam', loss='categorical_crossentropy', metrics=['accuracy'])\n",
    "\n",
    "history = model.fit(X_train, y_train, epochs=50, batch_size=64)\n",
    "\n",
    "test_loss, test_acc = model.evaluate(X_test, y_test)\n",
    "print(f\"Test accuracy: {test_acc}\")"
   ],
   "metadata": {
    "colab": {
     "base_uri": "https://localhost:8080/"
    },
    "id": "eSc0txaB8Zle",
    "outputId": "e5e13a82-6b6c-42bc-8357-3a7a82947906"
   },
   "outputs": [],
   "execution_count": null
  },
  {
   "cell_type": "code",
   "source": [
    "model.save('drive/MyDrive/data/LSTM_01.h5')"
   ],
   "metadata": {
    "id": "JSCdORvm-L4m",
    "colab": {
     "base_uri": "https://localhost:8080/"
    },
    "outputId": "dcb6b69c-5ae5-467e-bbb4-da1e4cef8121"
   },
   "outputs": [],
   "execution_count": null
  },
  {
   "cell_type": "code",
   "source": [
    "\n",
    "model = load_model('drive/MyDrive/data/LSTM_01.h5')\n",
    "\n",
    "test_loss, test_acc = model.evaluate(X_test, y_test)\n",
    "print(f\"Test accuracy: {test_acc}\")\n",
    "\n",
    "predictions = model.predict(X_test)\n",
    "\n",
    "predicted_class = np.argmax(predictions[0])\n",
    "print(f\"Predicted class: {predicted_class}\")\n"
   ],
   "metadata": {
    "id": "vHIZwBBdAHyv",
    "colab": {
     "base_uri": "https://localhost:8080/",
     "height": 391
    },
    "outputId": "6f941613-0871-4e99-acd7-7de2a2deb0ef"
   },
   "outputs": [],
   "execution_count": null
  },
  {
   "cell_type": "code",
   "source": [
    "\n",
    "test_image = X_test[0]\n",
    "test_image = np.expand_dims(test_image, axis=0)\n",
    "\n",
    "prediction = model.predict(test_image)\n",
    "predicted_class = np.argmax(prediction)\n",
    "\n",
    "predicted_phoneme = label_encoder.inverse_transform([predicted_class])[0]\n",
    "\n",
    "print(f\"Predicted phoneme: {predicted_phoneme}\")\n",
    "\n",
    "test_image_2d = test_image.reshape((28, 28*3))\n",
    "plt.imshow(test_image_2d, cmap='gray')\n",
    "plt.show()"
   ],
   "metadata": {
    "colab": {
     "base_uri": "https://localhost:8080/",
     "height": 263
    },
    "id": "jEOUBlSSD0yK",
    "outputId": "79347c1f-ce62-4283-953f-159a14528281"
   },
   "outputs": [],
   "execution_count": null
  },
  {
   "cell_type": "code",
   "source": [
    "\n",
    "\n",
    "model = load_model('drive/MyDrive/data/LSTM_01.h5')\n",
    "\n",
    "def preprocess_image(image_path, target_size=(28, 28)):\n",
    "    img = load_img(image_path, target_size=target_size)\n",
    "    img = img_to_array(img)\n",
    "    img = np.expand_dims(img, axis=-1)\n",
    "    img = img.astype('float32') / 255.0\n",
    "    return img\n",
    "\n",
    "test_image_path = 'cropped/017462.jpg'\n",
    "test_image = preprocess_image(test_image_path)\n",
    "\n",
    "test_image = test_image.reshape((1, 28, 28 * 3))\n",
    "\n",
    "prediction = model.predict(test_image)\n",
    "predicted_class = np.argmax(prediction)\n",
    "\n",
    "predicted_phoneme = label_encoder.inverse_transform([predicted_class])[0]\n",
    "\n",
    "print(f\"Predicted phoneme: {predicted_phoneme}\")\n",
    "\n",
    "test_image_2d = test_image.reshape((28, 28*3))\n",
    "plt.imshow(test_image_2d, cmap='gray')\n",
    "plt.show()\n"
   ],
   "metadata": {
    "colab": {
     "base_uri": "https://localhost:8080/",
     "height": 263
    },
    "id": "KgxKqyrPESpP",
    "outputId": "16bc9640-c4a7-4f98-c72d-ba011004678e"
   },
   "outputs": [],
   "execution_count": null
  },
  {
   "cell_type": "code",
   "source": [
    "data = pd.read_csv('drive/MyDrive/data/data.csv')\n",
    "\n",
    "actual_label = data[data['image'].str.contains(test_image_path.split('/')[-1], na=False)]['phone'].values[0]\n",
    "print(f\"Actual label: {actual_label}\")\n"
   ],
   "metadata": {
    "colab": {
     "base_uri": "https://localhost:8080/"
    },
    "id": "GdzJyepdFJ5E",
    "outputId": "fbae0cd8-8b24-474f-871c-4768a2fac662"
   },
   "outputs": [],
   "execution_count": null
  }
 ]
}
