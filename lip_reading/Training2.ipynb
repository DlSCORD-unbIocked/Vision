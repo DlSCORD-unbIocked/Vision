{
 "nbformat": 4,
 "nbformat_minor": 0,
 "metadata": {
  "colab": {
   "provenance": []
  },
  "kernelspec": {
   "name": "python3",
   "display_name": "Python 3"
  },
  "language_info": {
   "name": "python"
  }
 },
 "cells": [
  {
   "cell_type": "code",
   "source": [
    "from google.colab import drive\n",
    "drive.mount('/content/drive')"
   ],
   "metadata": {
    "colab": {
     "base_uri": "https://localhost:8080/"
    },
    "id": "L8_OJfk64rkS",
    "outputId": "96eed156-95d2-40a8-b299-a47e79049c7a"
   },
   "outputs": [],
   "execution_count": null
  },
  {
   "cell_type": "code",
   "source": [
    "!unzip -q drive/MyDrive/data/cropped.zip"
   ],
   "metadata": {
    "id": "uWl0198I45zx",
    "colab": {
     "base_uri": "https://localhost:8080/"
    },
    "outputId": "8992b830-9fd5-4b72-dca6-c2230e9caa50"
   },
   "outputs": [],
   "execution_count": null
  },
  {
   "cell_type": "code",
   "metadata": {
    "id": "RwRR_coC4JEM"
   },
   "source": [
    "import pandas as pd\n",
    "import numpy as np\n",
    "from tqdm import tqdm\n",
    "from tensorflow.keras.preprocessing.image import load_img, img_to_array\n",
    "from sklearn.model_selection import train_test_split\n",
    "from sklearn.preprocessing import LabelEncoder\n",
    "from tensorflow.keras.utils import to_categorical\n",
    "from tensorflow.keras import layers, models\n",
    "from tensorflow.keras.layers import LSTM"
   ],
   "outputs": [],
   "execution_count": null
  },
  {
   "cell_type": "code",
   "source": [
    "data = pd.read_csv('drive/MyDrive/data/data.csv')\n",
    "\n",
    "def preprocess_image(image_path, target_size=(28, 28)):\n",
    "    if pd.isna(image_path):\n",
    "        return None\n",
    "    image_path = image_path.split('/')[-1]\n",
    "    img = load_img(f\"cropped/{image_path}\", target_size=target_size)\n",
    "    img = img_to_array(img)\n",
    "    img = np.expand_dims(img, axis=-1)\n",
    "    img = img.astype('float32') / 255.0\n",
    "    return img\n",
    "\n",
    "# Filter out NaN values before processing\n",
    "valid_image_paths = data['image'].dropna()\n",
    "\n",
    "images = []\n",
    "for path in tqdm(valid_image_paths):\n",
    "    processed_image = preprocess_image(path)\n",
    "    if processed_image is not None:\n",
    "        images.append(processed_image)\n",
    "images = np.array(images)\n",
    "\n",
    "label_encoder = LabelEncoder()\n",
    "# Use the same filtering to get corresponding labels\n",
    "labels = label_encoder.fit_transform(data.loc[valid_image_paths.index, 'phone'])\n",
    "labels = to_categorical(labels)  # One-hot encode the labels\n",
    "\n",
    "X_train, X_test, y_train, y_test = train_test_split(images, labels, test_size=0.2, random_state=42)\n",
    "\n",
    "X_train = X_train.reshape((X_train.shape[0], 28, 28))\n",
    "X_test = X_test.reshape((X_test.shape[0], 28, 28))\n",
    "\n",
    "model = models.Sequential([\n",
    "    LSTM(128, input_shape=(28, 28)),\n",
    "    layers.Dense(len(np.unique(data['phone'])), activation='softmax')\n",
    "])\n",
    "\n",
    "model.compile(optimizer='adam', loss='categorical_crossentropy', metrics=['accuracy'])\n",
    "\n",
    "model.fit(X_train, y_train, epochs=10, batch_size=64)\n",
    "\n",
    "test_loss, test_acc = model.evaluate(X_test, y_test)\n",
    "print(f\"Test accuracy: {test_acc}\")"
   ],
   "metadata": {
    "colab": {
     "base_uri": "https://localhost:8080/",
     "height": 228
    },
    "id": "4zjJioMg4oAm",
    "outputId": "9a22fed1-f54a-4cab-8ac7-4f7997d68cb4"
   },
   "outputs": [],
   "execution_count": null
  }
 ]
}
